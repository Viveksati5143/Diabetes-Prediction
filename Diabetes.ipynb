{
 "cells": [
  {
   "cell_type": "code",
   "execution_count": null,
   "id": "42b7e5d5",
   "metadata": {},
   "outputs": [],
   "source": [
    "import numpy as np\n",
    "import pandas as pd\n",
    "import matplotlib.pyplot as plt\n",
    "import seaborn as sns"
   ]
  },
  {
   "cell_type": "markdown",
   "id": "44bb1f89",
   "metadata": {},
   "source": [
    "#### EDA - for better understanding of data"
   ]
  },
  {
   "cell_type": "code",
   "execution_count": null,
   "id": "6c0455d5",
   "metadata": {},
   "outputs": [],
   "source": [
    "df = pd.read_csv('diabetes.csv')"
   ]
  },
  {
   "cell_type": "code",
   "execution_count": null,
   "id": "fb33cce3",
   "metadata": {},
   "outputs": [],
   "source": [
    "df.head()"
   ]
  },
  {
   "cell_type": "code",
   "execution_count": null,
   "id": "e46a5f23",
   "metadata": {},
   "outputs": [],
   "source": [
    "df.tail()"
   ]
  },
  {
   "cell_type": "code",
   "execution_count": null,
   "id": "3102723c",
   "metadata": {},
   "outputs": [],
   "source": [
    "df.sample(10)"
   ]
  },
  {
   "cell_type": "code",
   "execution_count": null,
   "id": "cca6a584",
   "metadata": {},
   "outputs": [],
   "source": [
    "df.shape"
   ]
  },
  {
   "cell_type": "code",
   "execution_count": null,
   "id": "2072ac60",
   "metadata": {},
   "outputs": [],
   "source": [
    "df.dtypes"
   ]
  },
  {
   "cell_type": "code",
   "execution_count": null,
   "id": "ea42429a",
   "metadata": {},
   "outputs": [],
   "source": [
    "df.info()"
   ]
  },
  {
   "cell_type": "code",
   "execution_count": null,
   "id": "060c76f7",
   "metadata": {},
   "outputs": [],
   "source": [
    "df.describe()"
   ]
  },
  {
   "cell_type": "code",
   "execution_count": null,
   "id": "413dcdf9",
   "metadata": {},
   "outputs": [],
   "source": [
    "#data cleanning"
   ]
  },
  {
   "cell_type": "code",
   "execution_count": null,
   "id": "6fd83e81",
   "metadata": {},
   "outputs": [],
   "source": [
    "df.shape"
   ]
  },
  {
   "cell_type": "code",
   "execution_count": null,
   "id": "f65aa773",
   "metadata": {},
   "outputs": [],
   "source": [
    "df.duplicated().sum()"
   ]
  },
  {
   "cell_type": "code",
   "execution_count": null,
   "id": "37d422f7",
   "metadata": {},
   "outputs": [],
   "source": [
    " df.isnull().sum()"
   ]
  },
  {
   "cell_type": "code",
   "execution_count": null,
   "id": "7dfed7a3",
   "metadata": {},
   "outputs": [],
   "source": [
    "df.groupby('Outcome').mean()"
   ]
  },
  {
   "cell_type": "markdown",
   "id": "27d67731",
   "metadata": {},
   "source": [
    "# Data visualization"
   ]
  },
  {
   "cell_type": "code",
   "execution_count": null,
   "id": "52007e39",
   "metadata": {},
   "outputs": [],
   "source": [
    "plt.pie(df['Outcome'].value_counts(),labels=['Non Diabetic','Diabetic'],autopct='%0.2f')"
   ]
  },
  {
   "cell_type": "code",
   "execution_count": null,
   "id": "b4057e81",
   "metadata": {},
   "outputs": [],
   "source": [
    "N,P = df['Outcome'].value_counts()"
   ]
  },
  {
   "cell_type": "code",
   "execution_count": null,
   "id": "c08171cf",
   "metadata": {},
   "outputs": [],
   "source": [
    "N,P"
   ]
  },
  {
   "cell_type": "markdown",
   "id": "fc63a59f",
   "metadata": {},
   "source": [
    "## Relationship b/w variables"
   ]
  },
  {
   "cell_type": "code",
   "execution_count": null,
   "id": "876b9e2d",
   "metadata": {},
   "outputs": [],
   "source": [
    "#pairplot\n",
    "sns.pairplot(data = df,hue = 'Outcome')\n",
    "plt.show()"
   ]
  },
  {
   "cell_type": "code",
   "execution_count": null,
   "id": "44c09456",
   "metadata": {},
   "outputs": [],
   "source": [
    "corrmat = df.corr()\n",
    "top_corr_features = corrmat.index\n",
    "plt.figure(figsize=(10,10))\n",
    "g = sns.heatmap(df[top_corr_features].corr(),annot=True,cmap=\"RdYlGn\")"
   ]
  },
  {
   "cell_type": "markdown",
   "id": "ce4a3fe4",
   "metadata": {},
   "source": [
    "#### Standardizing data"
   ]
  },
  {
   "cell_type": "code",
   "execution_count": null,
   "id": "d55acd79",
   "metadata": {},
   "outputs": [],
   "source": [
    "X=df.drop(columns = 'Outcome', axis=1)\n",
    "Y=df['Outcome']"
   ]
  },
  {
   "cell_type": "markdown",
   "id": "e096d671",
   "metadata": {},
   "source": [
    "#### featureScaling"
   ]
  },
  {
   "cell_type": "code",
   "execution_count": null,
   "id": "d283f4f8",
   "metadata": {},
   "outputs": [],
   "source": [
    "from sklearn.preprocessing import StandardScaler\n",
    "scaler = StandardScaler()\n",
    "scaler.fit(X)\n",
    "Standard_data = scaler.transform(X)"
   ]
  },
  {
   "cell_type": "markdown",
   "id": "d9cc9d11",
   "metadata": {},
   "source": [
    "### Spliting data"
   ]
  },
  {
   "cell_type": "code",
   "execution_count": null,
   "id": "a528216a",
   "metadata": {},
   "outputs": [],
   "source": [
    "from sklearn.model_selection import train_test_split\n",
    "X_train,X_test,Y_train,Y_test = train_test_split(Standard_data,Y,test_size=0.17,random_state=7)"
   ]
  },
  {
   "cell_type": "code",
   "execution_count": null,
   "id": "030185c3",
   "metadata": {},
   "outputs": [],
   "source": [
    "X_train.shape,Y_train.shape"
   ]
  },
  {
   "cell_type": "code",
   "execution_count": null,
   "id": "a4c6d734",
   "metadata": {},
   "outputs": [],
   "source": [
    "X_test.shape,Y_test.shape"
   ]
  },
  {
   "cell_type": "markdown",
   "id": "2fdcbcfa",
   "metadata": {},
   "source": [
    "## Building model "
   ]
  },
  {
   "cell_type": "markdown",
   "id": "9d02aec5",
   "metadata": {},
   "source": [
    "### 1. Logistic Regression"
   ]
  },
  {
   "cell_type": "code",
   "execution_count": null,
   "id": "14c05ed9",
   "metadata": {},
   "outputs": [],
   "source": [
    "from sklearn.linear_model import LogisticRegression\n",
    "lr = LogisticRegression(solver = 'liblinear', multi_class='ovr')\n",
    "lr.fit(X_train,Y_train)"
   ]
  },
  {
   "cell_type": "markdown",
   "id": "fe94a31f",
   "metadata": {},
   "source": [
    "### 2. KNeighbors Classifier KNN"
   ]
  },
  {
   "cell_type": "code",
   "execution_count": null,
   "id": "29c99b10",
   "metadata": {},
   "outputs": [],
   "source": [
    "from sklearn.neighbors import KNeighborsClassifier\n",
    "knn = KNeighborsClassifier()\n",
    "knn.fit(X_train,Y_train)"
   ]
  },
  {
   "cell_type": "markdown",
   "id": "8a1740b5",
   "metadata": {},
   "source": [
    "### 3. Naive-Bayes"
   ]
  },
  {
   "cell_type": "code",
   "execution_count": null,
   "id": "ddebf372",
   "metadata": {},
   "outputs": [],
   "source": [
    "from sklearn.naive_bayes import GaussianNB\n",
    "nb = GaussianNB()\n",
    "nb.fit(X_train,Y_train)"
   ]
  },
  {
   "cell_type": "markdown",
   "id": "80d468fe",
   "metadata": {},
   "source": [
    "### 4. Support vector machine\n"
   ]
  },
  {
   "cell_type": "code",
   "execution_count": null,
   "id": "847a7da0",
   "metadata": {},
   "outputs": [],
   "source": [
    "from sklearn.svm import SVC\n",
    "sv = SVC()\n",
    "sv.fit(X_train,Y_train)"
   ]
  },
  {
   "cell_type": "markdown",
   "id": "11ab7c33",
   "metadata": {},
   "source": [
    "### 5. Decision Tree\n"
   ]
  },
  {
   "cell_type": "code",
   "execution_count": null,
   "id": "3777ff7f",
   "metadata": {},
   "outputs": [],
   "source": [
    "from sklearn.tree import DecisionTreeClassifier\n",
    "dt = DecisionTreeClassifier()\n",
    "dt.fit(X_train,Y_train)"
   ]
  },
  {
   "cell_type": "markdown",
   "id": "68d967ad",
   "metadata": {},
   "source": [
    "### 6. Random Forest\n"
   ]
  },
  {
   "cell_type": "code",
   "execution_count": null,
   "id": "0f7fc15b",
   "metadata": {},
   "outputs": [],
   "source": [
    "from sklearn.ensemble import RandomForestClassifier\n",
    "rf = RandomForestClassifier(criterion = 'entropy')\n",
    "rf.fit(X_train,Y_train)"
   ]
  },
  {
   "cell_type": "markdown",
   "id": "2c5a1c1f",
   "metadata": {},
   "source": [
    "# Prediction"
   ]
  },
  {
   "cell_type": "code",
   "execution_count": null,
   "id": "253ec446",
   "metadata": {},
   "outputs": [],
   "source": [
    "X_test.shape"
   ]
  },
  {
   "cell_type": "markdown",
   "id": "50f2dac4",
   "metadata": {},
   "source": [
    "### predictions of lr\n"
   ]
  },
  {
   "cell_type": "code",
   "execution_count": null,
   "id": "4d75a28e",
   "metadata": {},
   "outputs": [],
   "source": [
    "from sklearn.metrics import accuracy_score\n",
    "lr_pred = lr.predict(X_test)\n",
    "print(\"Train accuracy: \",lr.score(X_train,Y_train)*100)\n",
    "print(\"Accuracy(Test) score of LR :\",lr.score(X_test,Y_test)*100)\n",
    "print(\"Accuracy score of LR :\",accuracy_score(Y_test,lr_pred)*100)\n"
   ]
  },
  {
   "cell_type": "code",
   "execution_count": null,
   "id": "7d9ba16c",
   "metadata": {
    "scrolled": true
   },
   "outputs": [],
   "source": [
    "knn_pred = knn.predict(X_test)\n",
    "print(\"Train accuracy: \",knn.score(X_train,Y_train)*100)\n",
    "print(\"Accuracy(Test) score of LR :\",knn.score(X_test,Y_test)*100)\n",
    "print(\"Accuracy score of LR :\",accuracy_score(Y_test,knn_pred)*100)"
   ]
  },
  {
   "cell_type": "code",
   "execution_count": null,
   "id": "f1308cac",
   "metadata": {
    "scrolled": true
   },
   "outputs": [],
   "source": [
    "nb_pred = nb.predict(X_test)\n",
    "print(\"Train accuracy: \",nb.score(X_train,Y_train)*100)\n",
    "print(\"Accuracy(Train) score of LR :\",nb.score(X_test,Y_test)*100)\n",
    "print(\"Accuracy score of LR :\",accuracy_score(Y_test,nb_pred)*100)"
   ]
  },
  {
   "cell_type": "code",
   "execution_count": null,
   "id": "f232860d",
   "metadata": {
    "scrolled": true
   },
   "outputs": [],
   "source": [
    "sv_pred = sv.predict(X_test)\n",
    "print(\"Train accuracy: \",sv.score(X_train,Y_train)*100)\n",
    "print(\"Accuracy(test) score of LR :\",sv.score(X_test,Y_test)*100)\n",
    "print(\"Accuracy score of LR :\",accuracy_score(Y_test,sv_pred)*100)"
   ]
  },
  {
   "cell_type": "code",
   "execution_count": null,
   "id": "2d79d9a7",
   "metadata": {},
   "outputs": [],
   "source": [
    "dt_pred = dt.predict(X_test)\n",
    "print(\"Train accuracy: \",dt.score(X_train,Y_train)*100)\n",
    "print(\"Accuracy(test) score of LR :\",dt.score(X_test,Y_test)*100)\n",
    "print(\"Accuracy score of LR :\",accuracy_score(Y_test,dt_pred)*100)"
   ]
  },
  {
   "cell_type": "code",
   "execution_count": null,
   "id": "e9a3e93d",
   "metadata": {},
   "outputs": [],
   "source": [
    "rf_pred = rf.predict(X_test)\n",
    "print(\"Train accuracy: \",rf.score(X_train,Y_train)*100)\n",
    "print(\"Accuracy(test) score of LR :\",rf.score(X_test,Y_test)*100)\n",
    "print(\"Accuracy score of LR :\",accuracy_score(Y_test,rf_pred)*100)"
   ]
  },
  {
   "cell_type": "code",
   "execution_count": null,
   "id": "4ad10c46",
   "metadata": {},
   "outputs": [],
   "source": [
    "sv = SVC()\n",
    "sv.fit(X_train,Y_train)\n",
    "import pickle\n",
    "pickle.dump(sv,open('model2.pkl','wb'))"
   ]
  },
  {
   "cell_type": "code",
   "execution_count": null,
   "id": "9d4b2c92",
   "metadata": {},
   "outputs": [],
   "source": [
    "input_data = (15,136,70,32,110,37.1,0.153,43)\n",
    "input_data_as_numpy_array = np.array(input_data)\n",
    "input_data_reshaped = input_data_as_numpy_array.reshape(1,-1)\n",
    "std_data = scaler.transform(input_data_reshaped)\n",
    "print(std_data)\n",
    "pred = sv.predict(std_data)\n",
    "print(pred)"
   ]
  }
 ],
 "metadata": {
  "kernelspec": {
   "display_name": "Python 3 (ipykernel)",
   "language": "python",
   "name": "python3"
  },
  "language_info": {
   "codemirror_mode": {
    "name": "ipython",
    "version": 3
   },
   "file_extension": ".py",
   "mimetype": "text/x-python",
   "name": "python",
   "nbconvert_exporter": "python",
   "pygments_lexer": "ipython3",
   "version": "3.11.0"
  }
 },
 "nbformat": 4,
 "nbformat_minor": 5
}
